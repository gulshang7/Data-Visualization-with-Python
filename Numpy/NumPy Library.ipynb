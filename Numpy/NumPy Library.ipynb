{
 "cells": [
  {
   "cell_type": "markdown",
   "id": "a0b2ffcf",
   "metadata": {},
   "source": [
    "# NUMPY\n",
    "                                                                                                            BY GULSHAN GEDAM"
   ]
  },
  {
   "cell_type": "code",
   "execution_count": 1,
   "id": "1c83300a",
   "metadata": {},
   "outputs": [],
   "source": [
    "import numpy as np"
   ]
  },
  {
   "cell_type": "markdown",
   "id": "6d6a6baa",
   "metadata": {},
   "source": [
    "## NumPy Array"
   ]
  },
  {
   "cell_type": "code",
   "execution_count": 2,
   "id": "cdf6a8b6",
   "metadata": {},
   "outputs": [
    {
     "data": {
      "text/plain": [
       "array([1, 3, 5, 7, 9])"
      ]
     },
     "execution_count": 2,
     "metadata": {},
     "output_type": "execute_result"
    }
   ],
   "source": [
    "l = [1,3,5,7,9]\n",
    "np.array(l)"
   ]
  },
  {
   "cell_type": "code",
   "execution_count": 3,
   "id": "985e30d2",
   "metadata": {},
   "outputs": [],
   "source": [
    "l = [1,3,5,7,9]\n",
    "npa = np.array(l)"
   ]
  },
  {
   "cell_type": "code",
   "execution_count": 4,
   "id": "90da61d4",
   "metadata": {},
   "outputs": [
    {
     "data": {
      "text/plain": [
       "(list, numpy.ndarray)"
      ]
     },
     "execution_count": 4,
     "metadata": {},
     "output_type": "execute_result"
    }
   ],
   "source": [
    "type(l), type(npa)"
   ]
  },
  {
   "cell_type": "code",
   "execution_count": 5,
   "id": "a0958f6d",
   "metadata": {},
   "outputs": [
    {
     "data": {
      "text/plain": [
       "(5,)"
      ]
     },
     "execution_count": 5,
     "metadata": {},
     "output_type": "execute_result"
    }
   ],
   "source": [
    "npa.shape"
   ]
  },
  {
   "cell_type": "code",
   "execution_count": 6,
   "id": "9c5c41e2",
   "metadata": {},
   "outputs": [
    {
     "data": {
      "text/plain": [
       "[1, 3, 5, 7, 9, 2, 3, 'string', 8, 6]"
      ]
     },
     "execution_count": 6,
     "metadata": {},
     "output_type": "execute_result"
    }
   ],
   "source": [
    "l2 = [ 2,3, \"string\", 8,6]\n",
    "l + l2"
   ]
  },
  {
   "cell_type": "code",
   "execution_count": null,
   "id": "74e79b37",
   "metadata": {},
   "outputs": [],
   "source": [
    "l2 + 20 # --> ERROR"
   ]
  },
  {
   "cell_type": "code",
   "execution_count": 7,
   "id": "44a44c42",
   "metadata": {},
   "outputs": [
    {
     "data": {
      "text/plain": [
       "[2, 3, 'string', 8, 6, 20]"
      ]
     },
     "execution_count": 7,
     "metadata": {},
     "output_type": "execute_result"
    }
   ],
   "source": [
    "l2 + [20]"
   ]
  },
  {
   "cell_type": "code",
   "execution_count": 8,
   "id": "1b514a4b",
   "metadata": {},
   "outputs": [
    {
     "data": {
      "text/plain": [
       "array(['1', '3', '5', '7', '9', '2', '3', 'string', '8', '6'],\n",
       "      dtype='<U11')"
      ]
     },
     "execution_count": 8,
     "metadata": {},
     "output_type": "execute_result"
    }
   ],
   "source": [
    "npa= np.array(l + l2)\n",
    "npa"
   ]
  },
  {
   "cell_type": "code",
   "execution_count": 10,
   "id": "54ab7095",
   "metadata": {},
   "outputs": [
    {
     "data": {
      "text/plain": [
       "array([[2, 3],\n",
       "       [6, 7],\n",
       "       [8, 9],\n",
       "       [4, 5]])"
      ]
     },
     "execution_count": 10,
     "metadata": {},
     "output_type": "execute_result"
    }
   ],
   "source": [
    "l1 = [[2,3], [6,7], [8,9], [4,5]]\n",
    "npa2d = np.array(l1)\n",
    "npa2d"
   ]
  },
  {
   "cell_type": "code",
   "execution_count": 11,
   "id": "c6ee8bb4",
   "metadata": {},
   "outputs": [
    {
     "data": {
      "text/plain": [
       "(4, 2)"
      ]
     },
     "execution_count": 11,
     "metadata": {},
     "output_type": "execute_result"
    }
   ],
   "source": [
    "npa2d.shape"
   ]
  },
  {
   "cell_type": "code",
   "execution_count": 12,
   "id": "7975a9b6",
   "metadata": {},
   "outputs": [
    {
     "data": {
      "text/plain": [
       "array([[2., 3.],\n",
       "       [6., 7.],\n",
       "       [8., 9.],\n",
       "       [4., 5.]])"
      ]
     },
     "execution_count": 12,
     "metadata": {},
     "output_type": "execute_result"
    }
   ],
   "source": [
    "npa2d = np.array(l1, dtype= 'float') #------>> Converting Data Type to FLOAT\n",
    "npa2d"
   ]
  },
  {
   "cell_type": "code",
   "execution_count": 15,
   "id": "499e0249",
   "metadata": {},
   "outputs": [
    {
     "data": {
      "text/plain": [
       "array([[2, 3],\n",
       "       [6, 7],\n",
       "       [8, 9],\n",
       "       [4, 5]])"
      ]
     },
     "execution_count": 15,
     "metadata": {},
     "output_type": "execute_result"
    }
   ],
   "source": [
    "npa2d = npa2d.astype('int') # -- >> Converting Data Type to INT\n",
    "npa2d"
   ]
  },
  {
   "cell_type": "code",
   "execution_count": 16,
   "id": "f575ad69",
   "metadata": {},
   "outputs": [
    {
     "data": {
      "text/plain": [
       "array([['2', '3'],\n",
       "       ['6', '7'],\n",
       "       ['8', '9'],\n",
       "       ['4', '5']], dtype='<U11')"
      ]
     },
     "execution_count": 16,
     "metadata": {},
     "output_type": "execute_result"
    }
   ],
   "source": [
    "npa2d = npa2d.astype('str') # -- >> Converting Data Type to STRING\n",
    "npa2d"
   ]
  },
  {
   "cell_type": "code",
   "execution_count": 17,
   "id": "4fc75476",
   "metadata": {},
   "outputs": [
    {
     "data": {
      "text/plain": [
       "('2', '7')"
      ]
     },
     "execution_count": 17,
     "metadata": {},
     "output_type": "execute_result"
    }
   ],
   "source": [
    "npa2d[0][0], npa2d[1][1]"
   ]
  },
  {
   "cell_type": "markdown",
   "id": "455d3589",
   "metadata": {},
   "source": [
    "## NAN and INF"
   ]
  },
  {
   "cell_type": "code",
   "execution_count": null,
   "id": "2c61ea04",
   "metadata": {},
   "outputs": [],
   "source": [
    "'''\n",
    "NAN and INF \n",
    "NAN -> Not A Number\n",
    "INF -> Infinity\n",
    "'''"
   ]
  },
  {
   "cell_type": "code",
   "execution_count": 19,
   "id": "be55d37f",
   "metadata": {},
   "outputs": [
    {
     "data": {
      "text/plain": [
       "False"
      ]
     },
     "execution_count": 19,
     "metadata": {},
     "output_type": "execute_result"
    }
   ],
   "source": [
    "np.nan == np.nan # --> False\n"
   ]
  },
  {
   "cell_type": "code",
   "execution_count": 20,
   "id": "3f9a3e92",
   "metadata": {},
   "outputs": [
    {
     "data": {
      "text/plain": [
       "True"
      ]
     },
     "execution_count": 20,
     "metadata": {},
     "output_type": "execute_result"
    }
   ],
   "source": [
    "np.inf == np.inf"
   ]
  },
  {
   "cell_type": "code",
   "execution_count": 21,
   "id": "a0c3b039",
   "metadata": {},
   "outputs": [
    {
     "data": {
      "text/plain": [
       "True"
      ]
     },
     "execution_count": 21,
     "metadata": {},
     "output_type": "execute_result"
    }
   ],
   "source": [
    "None == None"
   ]
  },
  {
   "cell_type": "code",
   "execution_count": 22,
   "id": "b7fa6809",
   "metadata": {},
   "outputs": [
    {
     "data": {
      "text/plain": [
       "array([[2, 3],\n",
       "       [6, 7],\n",
       "       [8, 9],\n",
       "       [4, 5]])"
      ]
     },
     "execution_count": 22,
     "metadata": {},
     "output_type": "execute_result"
    }
   ],
   "source": [
    "nan2d = np.array(l1)\n",
    "nan2d"
   ]
  },
  {
   "cell_type": "code",
   "execution_count": 23,
   "id": "da81da04",
   "metadata": {},
   "outputs": [
    {
     "data": {
      "text/plain": [
       "array([[2., 3.],\n",
       "       [6., 7.],\n",
       "       [8., 9.],\n",
       "       [4., 5.]])"
      ]
     },
     "execution_count": 23,
     "metadata": {},
     "output_type": "execute_result"
    }
   ],
   "source": [
    "nan2d = nan2d.astype('float')\n",
    "nan2d"
   ]
  },
  {
   "cell_type": "code",
   "execution_count": 25,
   "id": "3d544472",
   "metadata": {},
   "outputs": [
    {
     "data": {
      "text/plain": [
       "array([[nan,  3.],\n",
       "       [ 6., inf],\n",
       "       [ 8.,  9.],\n",
       "       [ 4.,  5.]])"
      ]
     },
     "execution_count": 25,
     "metadata": {},
     "output_type": "execute_result"
    }
   ],
   "source": [
    "nan2d[0][0] = np.nan\n",
    "nan2d[1][1] = np.inf\n",
    "nan2d"
   ]
  },
  {
   "cell_type": "code",
   "execution_count": 26,
   "id": "2fec2d24",
   "metadata": {},
   "outputs": [
    {
     "data": {
      "text/plain": [
       "array([[ True, False],\n",
       "       [False, False],\n",
       "       [False, False],\n",
       "       [False, False]])"
      ]
     },
     "execution_count": 26,
     "metadata": {},
     "output_type": "execute_result"
    }
   ],
   "source": [
    "np.isnan(nan2d)"
   ]
  },
  {
   "cell_type": "code",
   "execution_count": 27,
   "id": "baa077ef",
   "metadata": {},
   "outputs": [
    {
     "data": {
      "text/plain": [
       "array([[False, False],\n",
       "       [False,  True],\n",
       "       [False, False],\n",
       "       [False, False]])"
      ]
     },
     "execution_count": 27,
     "metadata": {},
     "output_type": "execute_result"
    }
   ],
   "source": [
    "np.isinf(nan2d)"
   ]
  },
  {
   "cell_type": "code",
   "execution_count": 28,
   "id": "6fb82ba0",
   "metadata": {},
   "outputs": [
    {
     "data": {
      "text/plain": [
       "array([[ True, False],\n",
       "       [False,  True],\n",
       "       [False, False],\n",
       "       [False, False]])"
      ]
     },
     "execution_count": 28,
     "metadata": {},
     "output_type": "execute_result"
    }
   ],
   "source": [
    "flag = np.isnan(nan2d) | np.isinf(nan2d)\n",
    "flag"
   ]
  },
  {
   "cell_type": "code",
   "execution_count": 29,
   "id": "15317b75",
   "metadata": {},
   "outputs": [
    {
     "data": {
      "text/plain": [
       "array([nan, inf])"
      ]
     },
     "execution_count": 29,
     "metadata": {},
     "output_type": "execute_result"
    }
   ],
   "source": [
    "nan2d[flag]"
   ]
  },
  {
   "cell_type": "code",
   "execution_count": 30,
   "id": "b98b051b",
   "metadata": {},
   "outputs": [
    {
     "data": {
      "text/plain": [
       "array([[0., 3.],\n",
       "       [6., 0.],\n",
       "       [8., 9.],\n",
       "       [4., 5.]])"
      ]
     },
     "execution_count": 30,
     "metadata": {},
     "output_type": "execute_result"
    }
   ],
   "source": [
    "nan2d[flag] = 0\n",
    "nan2d"
   ]
  },
  {
   "cell_type": "markdown",
   "id": "c3932ac8",
   "metadata": {},
   "source": [
    "## Statistical Operations"
   ]
  },
  {
   "cell_type": "code",
   "execution_count": null,
   "id": "fa452f72",
   "metadata": {},
   "outputs": [],
   "source": [
    "'''\n",
    "Statistical Operations\n",
    "Mean Min Max Variance Median Standard-Daviance \n",
    "'''"
   ]
  },
  {
   "cell_type": "code",
   "execution_count": 31,
   "id": "462d1f17",
   "metadata": {},
   "outputs": [
    {
     "name": "stdout",
     "output_type": "stream",
     "text": [
      "0.0\n"
     ]
    }
   ],
   "source": [
    "print(nan2d.min())"
   ]
  },
  {
   "cell_type": "code",
   "execution_count": 32,
   "id": "0a55cc7d",
   "metadata": {},
   "outputs": [
    {
     "data": {
      "text/plain": [
       "9.0"
      ]
     },
     "execution_count": 32,
     "metadata": {},
     "output_type": "execute_result"
    }
   ],
   "source": [
    "nan2d.max()"
   ]
  },
  {
   "cell_type": "code",
   "execution_count": 33,
   "id": "796a91b5",
   "metadata": {},
   "outputs": [
    {
     "data": {
      "text/plain": [
       "4.375"
      ]
     },
     "execution_count": 33,
     "metadata": {},
     "output_type": "execute_result"
    }
   ],
   "source": [
    "nan2d.mean()"
   ]
  },
  {
   "cell_type": "code",
   "execution_count": 34,
   "id": "7be21c0b",
   "metadata": {},
   "outputs": [
    {
     "data": {
      "text/plain": [
       "3.119995993587171"
      ]
     },
     "execution_count": 34,
     "metadata": {},
     "output_type": "execute_result"
    }
   ],
   "source": [
    "nan2d.std()"
   ]
  },
  {
   "cell_type": "code",
   "execution_count": 35,
   "id": "bc32c884",
   "metadata": {},
   "outputs": [
    {
     "data": {
      "text/plain": [
       "9.734375"
      ]
     },
     "execution_count": 35,
     "metadata": {},
     "output_type": "execute_result"
    }
   ],
   "source": [
    "nan2d.var()"
   ]
  },
  {
   "cell_type": "code",
   "execution_count": 36,
   "id": "ed6eb9a2",
   "metadata": {},
   "outputs": [
    {
     "data": {
      "text/plain": [
       "4.5"
      ]
     },
     "execution_count": 36,
     "metadata": {},
     "output_type": "execute_result"
    }
   ],
   "source": [
    "np.median(nan2d)"
   ]
  },
  {
   "cell_type": "markdown",
   "id": "9c1d8c65",
   "metadata": {},
   "source": [
    "## shape(), reshape(), ravel()"
   ]
  },
  {
   "cell_type": "code",
   "execution_count": 37,
   "id": "f4740894",
   "metadata": {},
   "outputs": [
    {
     "data": {
      "text/plain": [
       "(4, 2)"
      ]
     },
     "execution_count": 37,
     "metadata": {},
     "output_type": "execute_result"
    }
   ],
   "source": [
    "nan2d.shape"
   ]
  },
  {
   "cell_type": "code",
   "execution_count": 38,
   "id": "90f2f605",
   "metadata": {},
   "outputs": [
    {
     "data": {
      "text/plain": [
       "array([[0., 3.],\n",
       "       [6., 0.],\n",
       "       [8., 9.],\n",
       "       [4., 5.]])"
      ]
     },
     "execution_count": 38,
     "metadata": {},
     "output_type": "execute_result"
    }
   ],
   "source": [
    "nan2d"
   ]
  },
  {
   "cell_type": "code",
   "execution_count": 40,
   "id": "f9d44765",
   "metadata": {},
   "outputs": [
    {
     "data": {
      "text/plain": [
       "array([[0., 3., 6., 0.],\n",
       "       [8., 9., 4., 5.]])"
      ]
     },
     "execution_count": 40,
     "metadata": {},
     "output_type": "execute_result"
    }
   ],
   "source": [
    "nan2d.reshape(2,4) #-->.Reshape the array / Change the"
   ]
  },
  {
   "cell_type": "code",
   "execution_count": 41,
   "id": "0bec871c",
   "metadata": {},
   "outputs": [
    {
     "data": {
      "text/plain": [
       "array([[0., 3., 6., 0., 8., 9., 4., 5.]])"
      ]
     },
     "execution_count": 41,
     "metadata": {},
     "output_type": "execute_result"
    }
   ],
   "source": [
    "nan2d.reshape(1,8) #-->.Reshape the array / Change the"
   ]
  },
  {
   "cell_type": "code",
   "execution_count": 42,
   "id": "ddac2253",
   "metadata": {},
   "outputs": [
    {
     "data": {
      "text/plain": [
       "array([[0.],\n",
       "       [3.],\n",
       "       [6.],\n",
       "       [0.],\n",
       "       [8.],\n",
       "       [9.],\n",
       "       [4.],\n",
       "       [5.]])"
      ]
     },
     "execution_count": 42,
     "metadata": {},
     "output_type": "execute_result"
    }
   ],
   "source": [
    "nan2d.reshape(8,1)"
   ]
  },
  {
   "cell_type": "code",
   "execution_count": null,
   "id": "fb611f9d",
   "metadata": {},
   "outputs": [],
   "source": [
    "Remember the reshape value must be multiple of 8\n",
    "\n",
    "nan2d.reshape(1,3)) --------->> This Gives Error\n"
   ]
  },
  {
   "cell_type": "code",
   "execution_count": 43,
   "id": "52e84236",
   "metadata": {},
   "outputs": [
    {
     "data": {
      "text/plain": [
       "array([[0., 3., 6., 0., 8., 9., 4., 5.]])"
      ]
     },
     "execution_count": 43,
     "metadata": {},
     "output_type": "execute_result"
    }
   ],
   "source": [
    "nan2d.reshape(1,8) "
   ]
  },
  {
   "cell_type": "code",
   "execution_count": 46,
   "id": "76402df5",
   "metadata": {},
   "outputs": [
    {
     "data": {
      "text/plain": [
       "array([[0.],\n",
       "       [3.],\n",
       "       [6.],\n",
       "       [0.],\n",
       "       [8.],\n",
       "       [9.],\n",
       "       [4.],\n",
       "       [5.]])"
      ]
     },
     "execution_count": 46,
     "metadata": {},
     "output_type": "execute_result"
    }
   ],
   "source": [
    "nan2d.reshape(8,1)"
   ]
  },
  {
   "cell_type": "code",
   "execution_count": 47,
   "id": "b05113fc",
   "metadata": {},
   "outputs": [
    {
     "data": {
      "text/plain": [
       "array([0., 3., 6., 0., 8., 9., 4., 5.])"
      ]
     },
     "execution_count": 47,
     "metadata": {},
     "output_type": "execute_result"
    }
   ],
   "source": [
    "nan2d.reshape(1,8).ravel()"
   ]
  },
  {
   "cell_type": "code",
   "execution_count": 49,
   "id": "6bc8e3bb",
   "metadata": {},
   "outputs": [
    {
     "data": {
      "text/plain": [
       "array([0., 3., 6., 0., 8., 9., 4., 5.])"
      ]
     },
     "execution_count": 49,
     "metadata": {},
     "output_type": "execute_result"
    }
   ],
   "source": [
    "nan2d.flatten()"
   ]
  },
  {
   "cell_type": "markdown",
   "id": "d5c9ea4b",
   "metadata": {},
   "source": [
    "## Sequence, Repetition and Random Numbers "
   ]
  },
  {
   "cell_type": "code",
   "execution_count": null,
   "id": "290d5c84",
   "metadata": {},
   "outputs": [],
   "source": [
    "'''\n",
    "Sequence, Repetition and Random Numbers\n",
    "\n",
    "arange(), linspace(),random(), zeroes() and one()\n",
    "\n",
    "PRINT EVERYTHING PRINT PRINT PRINT PRINT\n",
    "'''"
   ]
  },
  {
   "cell_type": "code",
   "execution_count": 52,
   "id": "208d9b36",
   "metadata": {},
   "outputs": [
    {
     "data": {
      "text/plain": [
       "array([1, 2, 3, 4])"
      ]
     },
     "execution_count": 52,
     "metadata": {},
     "output_type": "execute_result"
    }
   ],
   "source": [
    "np.arange(1,5) # --> [1 2 3 4] -> 5 is Not Includes "
   ]
  },
  {
   "cell_type": "code",
   "execution_count": 53,
   "id": "e37e4575",
   "metadata": {},
   "outputs": [
    {
     "data": {
      "text/plain": [
       "array([1., 2., 3., 4.])"
      ]
     },
     "execution_count": 53,
     "metadata": {},
     "output_type": "execute_result"
    }
   ],
   "source": [
    "np.arange(1,5,dtype='float')"
   ]
  },
  {
   "cell_type": "code",
   "execution_count": 54,
   "id": "71cfd57c",
   "metadata": {},
   "outputs": [
    {
     "data": {
      "text/plain": [
       "array([ 1,  4,  7, 10, 13, 16, 19])"
      ]
     },
     "execution_count": 54,
     "metadata": {},
     "output_type": "execute_result"
    }
   ],
   "source": [
    "np.arange(1,20,3) #-> Here 3 is step value "
   ]
  },
  {
   "cell_type": "code",
   "execution_count": 55,
   "id": "51cbb170",
   "metadata": {},
   "outputs": [
    {
     "data": {
      "text/plain": [
       "array([ 1.  ,  5.75, 10.5 , 15.25, 20.  ])"
      ]
     },
     "execution_count": 55,
     "metadata": {},
     "output_type": "execute_result"
    }
   ],
   "source": [
    "np.linspace(1, 20, 5)"
   ]
  },
  {
   "cell_type": "code",
   "execution_count": 56,
   "id": "44664bc0",
   "metadata": {},
   "outputs": [
    {
     "data": {
      "text/plain": [
       "array([ 1. , 10.5, 20. ])"
      ]
     },
     "execution_count": 56,
     "metadata": {},
     "output_type": "execute_result"
    }
   ],
   "source": [
    "np.linspace(1, 20, 3)"
   ]
  },
  {
   "cell_type": "code",
   "execution_count": 57,
   "id": "40b75c9c",
   "metadata": {},
   "outputs": [
    {
     "data": {
      "text/plain": [
       "array([1.00000000e+01, 1.66810054e+04, 2.78255940e+07, 4.64158883e+10,\n",
       "       7.74263683e+13, 1.29154967e+17, 2.15443469e+20, 3.59381366e+23,\n",
       "       5.99484250e+26, 1.00000000e+30])"
      ]
     },
     "execution_count": 57,
     "metadata": {},
     "output_type": "execute_result"
    }
   ],
   "source": [
    "np.logspace(1, 30, 10)"
   ]
  },
  {
   "cell_type": "code",
   "execution_count": 58,
   "id": "c95fbff8",
   "metadata": {},
   "outputs": [
    {
     "data": {
      "text/plain": [
       "array([[0., 0., 0., 0., 0.]])"
      ]
     },
     "execution_count": 58,
     "metadata": {},
     "output_type": "execute_result"
    }
   ],
   "source": [
    "np.zeros([1,5])"
   ]
  },
  {
   "cell_type": "code",
   "execution_count": 59,
   "id": "01e2ecb9",
   "metadata": {},
   "outputs": [
    {
     "data": {
      "text/plain": [
       "array([[[0., 0.],\n",
       "        [0., 0.],\n",
       "        [0., 0.]]])"
      ]
     },
     "execution_count": 59,
     "metadata": {},
     "output_type": "execute_result"
    }
   ],
   "source": [
    "np.zeros([1,3,2])"
   ]
  },
  {
   "cell_type": "code",
   "execution_count": 60,
   "id": "c6a07b6f",
   "metadata": {},
   "outputs": [
    {
     "data": {
      "text/plain": [
       "array([[1., 1., 1.]])"
      ]
     },
     "execution_count": 60,
     "metadata": {},
     "output_type": "execute_result"
    }
   ],
   "source": [
    "np.ones([1,3])"
   ]
  },
  {
   "cell_type": "code",
   "execution_count": 61,
   "id": "8d99f65c",
   "metadata": {},
   "outputs": [
    {
     "data": {
      "text/plain": [
       "array([1, 2, 1, 2, 1, 2])"
      ]
     },
     "execution_count": 61,
     "metadata": {},
     "output_type": "execute_result"
    }
   ],
   "source": [
    "np.tile([1,2], 3)"
   ]
  },
  {
   "cell_type": "code",
   "execution_count": 62,
   "id": "2dfce0ca",
   "metadata": {},
   "outputs": [
    {
     "data": {
      "text/plain": [
       "array([1, 1, 1, 2, 2, 2])"
      ]
     },
     "execution_count": 62,
     "metadata": {},
     "output_type": "execute_result"
    }
   ],
   "source": [
    "np.repeat([1,2], 3)"
   ]
  },
  {
   "cell_type": "code",
   "execution_count": 63,
   "id": "34c81463",
   "metadata": {},
   "outputs": [
    {
     "data": {
      "text/plain": [
       "array([[0.88722633, 0.59188994, 0.94155353],\n",
       "       [0.94031793, 0.76021248, 0.36599387],\n",
       "       [0.68507342, 0.95920944, 0.42858407]])"
      ]
     },
     "execution_count": 63,
     "metadata": {},
     "output_type": "execute_result"
    }
   ],
   "source": [
    "np.random.rand(3,3)"
   ]
  },
  {
   "cell_type": "code",
   "execution_count": 64,
   "id": "fb15419d",
   "metadata": {},
   "outputs": [
    {
     "data": {
      "text/plain": [
       "array([[9, 8, 6],\n",
       "       [4, 3, 2],\n",
       "       [7, 7, 9]])"
      ]
     },
     "execution_count": 64,
     "metadata": {},
     "output_type": "execute_result"
    }
   ],
   "source": [
    "np.random.randint(1,10, [3,3]) #--> (seed(1) to stop random no. everytime)"
   ]
  },
  {
   "cell_type": "code",
   "execution_count": 66,
   "id": "b73ddcc6",
   "metadata": {},
   "outputs": [
    {
     "data": {
      "text/plain": [
       "array([3, 4, 5, 6])"
      ]
     },
     "execution_count": 66,
     "metadata": {},
     "output_type": "execute_result"
    }
   ],
   "source": [
    "arr2D = [[3,4], [4,5], [6,5]]\n",
    "\n",
    "arr = np.unique(arr2D)\n",
    "arr"
   ]
  },
  {
   "cell_type": "code",
   "execution_count": 67,
   "id": "929bc52b",
   "metadata": {},
   "outputs": [
    {
     "data": {
      "text/plain": [
       "(array([3, 4, 5, 6]), array([1, 2, 2, 1], dtype=int64))"
      ]
     },
     "execution_count": 67,
     "metadata": {},
     "output_type": "execute_result"
    }
   ],
   "source": [
    "np.unique(arr2D, return_counts= True)"
   ]
  },
  {
   "cell_type": "code",
   "execution_count": null,
   "id": "9b719973",
   "metadata": {},
   "outputs": [],
   "source": [
    "'''\n",
    "(array([3, 4, 5, 6]), array([1, 2, 2, 1], dtype=int64))\n",
    "i.e means 3 -> 1 time, 4 and 5-> 2 times and 6 -> 1 time\n",
    "'''"
   ]
  },
  {
   "cell_type": "markdown",
   "id": "6bdf57f7",
   "metadata": {},
   "source": [
    "## Where"
   ]
  },
  {
   "cell_type": "code",
   "execution_count": 70,
   "id": "92dc5316",
   "metadata": {},
   "outputs": [
    {
     "data": {
      "text/plain": [
       "array([23,  5, 67,  8,  5, 19, 34,  6, 90, 87])"
      ]
     },
     "execution_count": 70,
     "metadata": {},
     "output_type": "execute_result"
    }
   ],
   "source": [
    "arr = np.array([23,5,67,8,5,19,34,6,90,87])\n",
    "arr"
   ]
  },
  {
   "cell_type": "code",
   "execution_count": 71,
   "id": "610e1861",
   "metadata": {},
   "outputs": [
    {
     "data": {
      "text/plain": [
       "(array([0, 2, 6, 8, 9], dtype=int64),)"
      ]
     },
     "execution_count": 71,
     "metadata": {},
     "output_type": "execute_result"
    }
   ],
   "source": [
    "(np.where(arr>20))\n",
    "# This Gives Index Not Values, For values use below syntex"
   ]
  },
  {
   "cell_type": "code",
   "execution_count": 72,
   "id": "c4e4ce5e",
   "metadata": {},
   "outputs": [
    {
     "data": {
      "text/plain": [
       "array([23, 67, 34, 90, 87])"
      ]
     },
     "execution_count": 72,
     "metadata": {},
     "output_type": "execute_result"
    }
   ],
   "source": [
    "index = np.where(arr>20)\n",
    "arr[index]"
   ]
  },
  {
   "cell_type": "code",
   "execution_count": 73,
   "id": "d2d25726",
   "metadata": {},
   "outputs": [
    {
     "name": "stdout",
     "output_type": "stream",
     "text": [
      "[5 8 5 6]\n"
     ]
    }
   ],
   "source": [
    "index = np.where(arr < 10)\n",
    "print(arr[index])"
   ]
  },
  {
   "cell_type": "code",
   "execution_count": 74,
   "id": "414dc439",
   "metadata": {},
   "outputs": [
    {
     "name": "stdout",
     "output_type": "stream",
     "text": [
      "[ True False  True False False  True  True False  True  True]\n"
     ]
    }
   ],
   "source": [
    "print(arr>10) # This gives result in boolean"
   ]
  },
  {
   "cell_type": "code",
   "execution_count": 75,
   "id": "af80f053",
   "metadata": {},
   "outputs": [
    {
     "data": {
      "text/plain": [
       "array([23, 67, 34, 90, 87])"
      ]
     },
     "execution_count": 75,
     "metadata": {},
     "output_type": "execute_result"
    }
   ],
   "source": [
    "arr[arr>20] # Alternate of WHERE"
   ]
  },
  {
   "cell_type": "code",
   "execution_count": 76,
   "id": "dc5254ca",
   "metadata": {},
   "outputs": [
    {
     "name": "stdout",
     "output_type": "stream",
     "text": [
      "90\n"
     ]
    }
   ],
   "source": [
    "print(arr.max()) # This Gives Maximum Value, But what if we want index of Max No."
   ]
  },
  {
   "cell_type": "code",
   "execution_count": 77,
   "id": "a04a1ab9",
   "metadata": {},
   "outputs": [
    {
     "name": "stdout",
     "output_type": "stream",
     "text": [
      "8\n"
     ]
    }
   ],
   "source": [
    "print(arr.argmax()) # This Gives Index of Max No."
   ]
  },
  {
   "cell_type": "code",
   "execution_count": 78,
   "id": "e89719f5",
   "metadata": {},
   "outputs": [
    {
     "name": "stdout",
     "output_type": "stream",
     "text": [
      "8\n"
     ]
    }
   ],
   "source": [
    "print(arr.argmax()) # This Gives Index of Min No."
   ]
  },
  {
   "cell_type": "markdown",
   "id": "5282ee95",
   "metadata": {},
   "source": [
    "## Read and Write File "
   ]
  },
  {
   "cell_type": "code",
   "execution_count": 79,
   "id": "30356d9a",
   "metadata": {},
   "outputs": [],
   "source": [
    "arr2D = np.array([[3,4,8], [4,5,2], [6,5,3]])"
   ]
  },
  {
   "cell_type": "code",
   "execution_count": 80,
   "id": "9600bbfc",
   "metadata": {},
   "outputs": [],
   "source": [
    "np.savetxt('arr2D.csv', arr2D, delimiter=',')"
   ]
  },
  {
   "cell_type": "code",
   "execution_count": 81,
   "id": "fe0bd8ba",
   "metadata": {},
   "outputs": [
    {
     "data": {
      "text/plain": [
       "array([[3., 4., 8.],\n",
       "       [4., 5., 2.],\n",
       "       [6., 5., 3.]])"
      ]
     },
     "execution_count": 81,
     "metadata": {},
     "output_type": "execute_result"
    }
   ],
   "source": [
    "np.loadtxt('arr2D.csv', delimiter=',')"
   ]
  },
  {
   "cell_type": "code",
   "execution_count": 82,
   "id": "2b85f375",
   "metadata": {},
   "outputs": [],
   "source": [
    "np.save('data.npy', arr2D)"
   ]
  },
  {
   "cell_type": "code",
   "execution_count": 83,
   "id": "28a85dcd",
   "metadata": {},
   "outputs": [
    {
     "data": {
      "text/plain": [
       "array([[3, 4, 8],\n",
       "       [4, 5, 2],\n",
       "       [6, 5, 3]])"
      ]
     },
     "execution_count": 83,
     "metadata": {},
     "output_type": "execute_result"
    }
   ],
   "source": [
    "np.load('data.npy')"
   ]
  },
  {
   "cell_type": "code",
   "execution_count": null,
   "id": "b6c5f4e2",
   "metadata": {},
   "outputs": [],
   "source": [
    "arr = np.array([1,2,3,4,5,6,7,8,9])"
   ]
  },
  {
   "cell_type": "code",
   "execution_count": 84,
   "id": "6885f5a2",
   "metadata": {},
   "outputs": [],
   "source": [
    "np.savez('both.npz', arr, arr2D)"
   ]
  },
  {
   "cell_type": "code",
   "execution_count": 85,
   "id": "23d9fa2d",
   "metadata": {},
   "outputs": [
    {
     "data": {
      "text/plain": [
       "<numpy.lib.npyio.NpzFile at 0x27415a8b5e0>"
      ]
     },
     "execution_count": 85,
     "metadata": {},
     "output_type": "execute_result"
    }
   ],
   "source": [
    "np.load('both.npz')"
   ]
  },
  {
   "cell_type": "code",
   "execution_count": 86,
   "id": "d3ef0239",
   "metadata": {},
   "outputs": [
    {
     "data": {
      "text/plain": [
       "['arr_0', 'arr_1']"
      ]
     },
     "execution_count": 86,
     "metadata": {},
     "output_type": "execute_result"
    }
   ],
   "source": [
    "np.load('both.npz').files"
   ]
  },
  {
   "cell_type": "code",
   "execution_count": 87,
   "id": "807b81af",
   "metadata": {},
   "outputs": [],
   "source": [
    "d = np.load('both.npz')"
   ]
  },
  {
   "cell_type": "code",
   "execution_count": 88,
   "id": "3a21c108",
   "metadata": {},
   "outputs": [
    {
     "data": {
      "text/plain": [
       "['arr_0', 'arr_1']"
      ]
     },
     "execution_count": 88,
     "metadata": {},
     "output_type": "execute_result"
    }
   ],
   "source": [
    "d.files"
   ]
  },
  {
   "cell_type": "code",
   "execution_count": 89,
   "id": "6d2db70c",
   "metadata": {},
   "outputs": [
    {
     "data": {
      "text/plain": [
       "array([23,  5, 67,  8,  5, 19, 34,  6, 90, 87])"
      ]
     },
     "execution_count": 89,
     "metadata": {},
     "output_type": "execute_result"
    }
   ],
   "source": [
    "d[d.files[0]] #----------->> For Opening 1st Array"
   ]
  },
  {
   "cell_type": "code",
   "execution_count": 90,
   "id": "be8f7e3d",
   "metadata": {},
   "outputs": [
    {
     "data": {
      "text/plain": [
       "array([[3, 4, 8],\n",
       "       [4, 5, 2],\n",
       "       [6, 5, 3]])"
      ]
     },
     "execution_count": 90,
     "metadata": {},
     "output_type": "execute_result"
    }
   ],
   "source": [
    "d[d.files[1]] #----------->> For Opening 2st Array"
   ]
  },
  {
   "cell_type": "markdown",
   "id": "f341d21d",
   "metadata": {},
   "source": [
    "## CONCATENATE AND SORTING"
   ]
  },
  {
   "cell_type": "code",
   "execution_count": 91,
   "id": "b2fb78e8",
   "metadata": {},
   "outputs": [],
   "source": [
    "arr2D = np.array([[3,4,8], [4,5,2], [6,5,3]])\n",
    "arr = np.array([1,2,3,4,5,6,7])"
   ]
  },
  {
   "cell_type": "code",
   "execution_count": 92,
   "id": "a1bad762",
   "metadata": {},
   "outputs": [
    {
     "data": {
      "text/plain": [
       "array([[3, 4, 8],\n",
       "       [4, 5, 2],\n",
       "       [6, 5, 3],\n",
       "       [3, 4, 8],\n",
       "       [4, 5, 2],\n",
       "       [6, 5, 3]])"
      ]
     },
     "execution_count": 92,
     "metadata": {},
     "output_type": "execute_result"
    }
   ],
   "source": [
    "con = np.concatenate([arr2D,arr2D], axis=0)\n",
    "con"
   ]
  },
  {
   "cell_type": "code",
   "execution_count": 93,
   "id": "38e95400",
   "metadata": {},
   "outputs": [
    {
     "data": {
      "text/plain": [
       "array([[3, 4, 8, 3, 4, 8],\n",
       "       [4, 5, 2, 4, 5, 2],\n",
       "       [6, 5, 3, 6, 5, 3]])"
      ]
     },
     "execution_count": 93,
     "metadata": {},
     "output_type": "execute_result"
    }
   ],
   "source": [
    "con = np.concatenate([arr2D,arr2D], axis=1)\n",
    "con"
   ]
  },
  {
   "cell_type": "code",
   "execution_count": null,
   "id": "a4b23069",
   "metadata": {},
   "outputs": [],
   "source": [
    "# con = np.concatenate([arr2D,arr], axis=1) # -->> This gives error \n",
    "# print(con) -->> Size of arr and arr2d are different"
   ]
  },
  {
   "cell_type": "code",
   "execution_count": 95,
   "id": "731d930c",
   "metadata": {},
   "outputs": [
    {
     "data": {
      "text/plain": [
       "array([1, 2, 3, 4, 5, 6, 7, 1, 2, 3, 4, 5, 6, 7])"
      ]
     },
     "execution_count": 95,
     "metadata": {},
     "output_type": "execute_result"
    }
   ],
   "source": [
    "con = np.concatenate([arr,arr], axis=0)\n",
    "con"
   ]
  },
  {
   "cell_type": "code",
   "execution_count": 96,
   "id": "1cf61356",
   "metadata": {},
   "outputs": [
    {
     "data": {
      "text/plain": [
       "array([[3, 4, 8],\n",
       "       [4, 5, 2],\n",
       "       [6, 5, 3],\n",
       "       [3, 4, 8],\n",
       "       [4, 5, 2],\n",
       "       [6, 5, 3]])"
      ]
     },
     "execution_count": 96,
     "metadata": {},
     "output_type": "execute_result"
    }
   ],
   "source": [
    "con1 = np.vstack([arr2D, arr2D])\n",
    "con1"
   ]
  },
  {
   "cell_type": "code",
   "execution_count": 97,
   "id": "923e04de",
   "metadata": {},
   "outputs": [
    {
     "data": {
      "text/plain": [
       "array([1, 2, 3, 4, 5, 6, 7, 1, 2, 3, 4, 5, 6, 7])"
      ]
     },
     "execution_count": 97,
     "metadata": {},
     "output_type": "execute_result"
    }
   ],
   "source": [
    "con = np.hstack([arr, arr])\n",
    "con"
   ]
  },
  {
   "cell_type": "code",
   "execution_count": 99,
   "id": "56cb3449",
   "metadata": {},
   "outputs": [
    {
     "data": {
      "text/plain": [
       "array([[3, 3, 4, 4, 8, 8],\n",
       "       [2, 2, 4, 4, 5, 5],\n",
       "       [3, 3, 5, 5, 6, 6]])"
      ]
     },
     "execution_count": 99,
     "metadata": {},
     "output_type": "execute_result"
    }
   ],
   "source": [
    "con1 = np.hstack([arr2D, arr2D])\n",
    "con1.sort()\n",
    "con1"
   ]
  },
  {
   "cell_type": "markdown",
   "id": "ca91ad6a",
   "metadata": {},
   "source": [
    "## Dates"
   ]
  },
  {
   "cell_type": "code",
   "execution_count": 101,
   "id": "4decb4df",
   "metadata": {},
   "outputs": [
    {
     "name": "stdout",
     "output_type": "stream",
     "text": [
      "2012-05-01T23:34:22\n"
     ]
    }
   ],
   "source": [
    "d = np.datetime64('2012-05-01 23:34:22')\n",
    "print(d)"
   ]
  },
  {
   "cell_type": "code",
   "execution_count": 102,
   "id": "f97edf1c",
   "metadata": {},
   "outputs": [
    {
     "name": "stdout",
     "output_type": "stream",
     "text": [
      "2012-05-01T23:34:32\n"
     ]
    }
   ],
   "source": [
    "print(d + 10) # -> 2012-05-01T23:34:32 This adds 10 Seconds in time"
   ]
  },
  {
   "cell_type": "code",
   "execution_count": 103,
   "id": "f6a2e49a",
   "metadata": {},
   "outputs": [
    {
     "name": "stdout",
     "output_type": "stream",
     "text": [
      "2012-05-02T23:34:22\n"
     ]
    }
   ],
   "source": [
    "one = np.timedelta64(1 , 'D')\n",
    "print(d + one) # -> 2012-05-02T23:34:22 This adds 1 Day in time"
   ]
  },
  {
   "cell_type": "code",
   "execution_count": 104,
   "id": "91c12a1e",
   "metadata": {},
   "outputs": [
    {
     "name": "stdout",
     "output_type": "stream",
     "text": [
      "2012-05-01T23:55:22\n"
     ]
    }
   ],
   "source": [
    "one = np.timedelta64( 21, 'm')\n",
    "print(d + one)"
   ]
  },
  {
   "cell_type": "code",
   "execution_count": null,
   "id": "cbd725a7",
   "metadata": {},
   "outputs": [],
   "source": []
  },
  {
   "cell_type": "code",
   "execution_count": null,
   "id": "3f7507bc",
   "metadata": {},
   "outputs": [],
   "source": []
  },
  {
   "cell_type": "code",
   "execution_count": null,
   "id": "226eb315",
   "metadata": {},
   "outputs": [],
   "source": []
  },
  {
   "cell_type": "code",
   "execution_count": null,
   "id": "c80d1c24",
   "metadata": {},
   "outputs": [],
   "source": []
  },
  {
   "cell_type": "code",
   "execution_count": null,
   "id": "7d49d38f",
   "metadata": {},
   "outputs": [],
   "source": []
  },
  {
   "cell_type": "code",
   "execution_count": null,
   "id": "fcf51da2",
   "metadata": {},
   "outputs": [],
   "source": []
  },
  {
   "cell_type": "code",
   "execution_count": null,
   "id": "5b433704",
   "metadata": {},
   "outputs": [],
   "source": []
  },
  {
   "cell_type": "code",
   "execution_count": null,
   "id": "516dc98f",
   "metadata": {},
   "outputs": [],
   "source": []
  },
  {
   "cell_type": "code",
   "execution_count": null,
   "id": "89cd8db6",
   "metadata": {},
   "outputs": [],
   "source": []
  }
 ],
 "metadata": {
  "kernelspec": {
   "display_name": "Python 3 (ipykernel)",
   "language": "python",
   "name": "python3"
  },
  "language_info": {
   "codemirror_mode": {
    "name": "ipython",
    "version": 3
   },
   "file_extension": ".py",
   "mimetype": "text/x-python",
   "name": "python",
   "nbconvert_exporter": "python",
   "pygments_lexer": "ipython3",
   "version": "3.9.13"
  }
 },
 "nbformat": 4,
 "nbformat_minor": 5
}
